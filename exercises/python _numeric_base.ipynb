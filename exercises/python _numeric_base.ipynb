{
 "cells": [
  {
   "cell_type": "code",
   "execution_count": 1,
   "metadata": {
    "collapsed": true
   },
   "outputs": [],
   "source": [
    "#import numpy as np\n",
    "from numpy import*    #np.を省略できるが、関数名の衝突に注意"
   ]
  },
  {
   "cell_type": "code",
   "execution_count": 2,
   "metadata": {},
   "outputs": [
    {
     "name": "stdout",
     "output_type": "stream",
     "text": [
      "[[ 1.  2.  0.]\n",
      " [-1.  3.  2.]\n",
      " [ 0. -1.  1.]]\n"
     ]
    }
   ],
   "source": [
    "A = array([[1.0,2.0,0.0], [-1.0,3.0,2.0], [0.0,-1.0,1.0]])\n",
    "print (A)"
   ]
  },
  {
   "cell_type": "code",
   "execution_count": 22,
   "metadata": {},
   "outputs": [
    {
     "name": "stdout",
     "output_type": "stream",
     "text": [
      "[ 1.  2.  3.]\n",
      "[[ 1.  2.  3.]]\n",
      "[[ 1.]\n",
      " [ 2.]\n",
      " [ 3.]]\n"
     ]
    }
   ],
   "source": [
    "#一次元arrayによる表現\n",
    "a=array([1.0,2.0,3.0])\n",
    "print(a)\n",
    "#二次元arrayによる表現\n",
    "b=array([[1.0,2.0,3.0]])\n",
    "print(b)\n",
    "print(b.T)"
   ]
  },
  {
   "cell_type": "markdown",
   "metadata": {},
   "source": [
    "## ベクトル演算"
   ]
  },
  {
   "cell_type": "code",
   "execution_count": 3,
   "metadata": {},
   "outputs": [
    {
     "name": "stdout",
     "output_type": "stream",
     "text": [
      "[ 0.  3.  2.]\n"
     ]
    }
   ],
   "source": [
    "#リスト同様、インデックスで要素変更、スライスできる\n",
    "#別名をつけたり、複製するのも同じ\n",
    "a= array([0.0,1.0,2.0])\n",
    "a[1]=3.0\n",
    "print(a)"
   ]
  },
  {
   "cell_type": "code",
   "execution_count": 4,
   "metadata": {},
   "outputs": [
    {
     "name": "stdout",
     "output_type": "stream",
     "text": [
      "[ 0.  0.  0.] [ 1.  1.  1.]\n"
     ]
    }
   ],
   "source": [
    "a = zeros(3)\n",
    "b = ones(3)\n",
    "print(a,b)"
   ]
  },
  {
   "cell_type": "code",
   "execution_count": 9,
   "metadata": {},
   "outputs": [
    {
     "name": "stdout",
     "output_type": "stream",
     "text": [
      "[ 1.  5.  9.] [  1.   4.   7.  10.] [0 1 2]\n"
     ]
    }
   ],
   "source": [
    "a = arange(1.0,10.0,4.0)    #幅を指定\n",
    "b = linspace(1.0,10.0,4)    #要素数を指定\n",
    "c = arange(3)    #[0,1,..,n-1]\n",
    "print(a,b,c)"
   ]
  },
  {
   "cell_type": "code",
   "execution_count": 12,
   "metadata": {},
   "outputs": [
    {
     "data": {
      "text/plain": [
       "array([  1.,   6.,  11.])"
      ]
     },
     "execution_count": 12,
     "metadata": {},
     "output_type": "execute_result"
    }
   ],
   "source": [
    "a+c"
   ]
  },
  {
   "cell_type": "code",
   "execution_count": 13,
   "metadata": {},
   "outputs": [
    {
     "data": {
      "text/plain": [
       "array([  2.,   6.,  10.])"
      ]
     },
     "execution_count": 13,
     "metadata": {},
     "output_type": "execute_result"
    }
   ],
   "source": [
    "a+1.0"
   ]
  },
  {
   "cell_type": "code",
   "execution_count": 14,
   "metadata": {},
   "outputs": [
    {
     "data": {
      "text/plain": [
       "array([  0.,   5.,  18.])"
      ]
     },
     "execution_count": 14,
     "metadata": {},
     "output_type": "execute_result"
    }
   ],
   "source": [
    "a*c    #要素同士の掛け算"
   ]
  },
  {
   "cell_type": "code",
   "execution_count": 15,
   "metadata": {},
   "outputs": [
    {
     "data": {
      "text/plain": [
       "array([  2.,  10.,  18.])"
      ]
     },
     "execution_count": 15,
     "metadata": {},
     "output_type": "execute_result"
    }
   ],
   "source": [
    "2*a"
   ]
  },
  {
   "cell_type": "code",
   "execution_count": 16,
   "metadata": {},
   "outputs": [
    {
     "data": {
      "text/plain": [
       "array([ 1.,  4.,  7.])"
      ]
     },
     "execution_count": 16,
     "metadata": {},
     "output_type": "execute_result"
    }
   ],
   "source": [
    "#要素ごとに適用される関数\n",
    "absolute(c-a)\n",
    "#exp(a)\n",
    "#sqrt(a)\n",
    "#sin(a)"
   ]
  },
  {
   "cell_type": "code",
   "execution_count": 17,
   "metadata": {},
   "outputs": [
    {
     "data": {
      "text/plain": [
       "23.0"
      ]
     },
     "execution_count": 17,
     "metadata": {},
     "output_type": "execute_result"
    }
   ],
   "source": [
    "#内積\n",
    "vdot(a,c)"
   ]
  },
  {
   "cell_type": "code",
   "execution_count": 18,
   "metadata": {},
   "outputs": [
    {
     "data": {
      "text/plain": [
       "array([[  0.,   1.,   2.],\n",
       "       [  0.,   5.,  10.],\n",
       "       [  0.,   9.,  18.]])"
      ]
     },
     "execution_count": 18,
     "metadata": {},
     "output_type": "execute_result"
    }
   ],
   "source": [
    "#外積\n",
    "outer(a,c)"
   ]
  },
  {
   "cell_type": "code",
   "execution_count": 21,
   "metadata": {},
   "outputs": [
    {
     "data": {
      "text/plain": [
       "10.344080432788601"
      ]
     },
     "execution_count": 21,
     "metadata": {},
     "output_type": "execute_result"
    }
   ],
   "source": [
    "#ノルム\n",
    "linalg.norm(a)"
   ]
  },
  {
   "cell_type": "markdown",
   "metadata": {},
   "source": [
    "## 行列演算"
   ]
  },
  {
   "cell_type": "code",
   "execution_count": 25,
   "metadata": {},
   "outputs": [
    {
     "name": "stdout",
     "output_type": "stream",
     "text": [
      "1.0\n",
      "[ 1.  3.]\n",
      "[ 3.  4.]\n"
     ]
    }
   ],
   "source": [
    "A = array([[1.0,2.0], [3.0,4.0]])\n",
    "print(A[0,0])    #要素指定\n",
    "print(A[:,0])    #列ベクトルを取り出す\n",
    "print(A[1,:])    #行ベクトルを取り出す"
   ]
  },
  {
   "cell_type": "code",
   "execution_count": 28,
   "metadata": {},
   "outputs": [
    {
     "name": "stdout",
     "output_type": "stream",
     "text": [
      "[[ 3.  1.]\n",
      " [ 0.  2.]]\n",
      "[[ 2.  3.]\n",
      " [-1.  2.]]\n"
     ]
    }
   ],
   "source": [
    "A = array([[1.0,2.0], [-2.0,1.0]])\n",
    "B = array([[2.0,-1.0], [2.0,1.0]])\n",
    "print(A+B)\n",
    "print(A+1)"
   ]
  },
  {
   "cell_type": "code",
   "execution_count": 29,
   "metadata": {},
   "outputs": [
    {
     "name": "stdout",
     "output_type": "stream",
     "text": [
      "[[ 2.  4.]\n",
      " [-4.  2.]]\n",
      "[[ 6.  1.]\n",
      " [-2.  3.]]\n",
      "[[ 2. -2.]\n",
      " [-4.  1.]]\n"
     ]
    }
   ],
   "source": [
    "print(2*A)    #スカラー倍\n",
    "print(dot(A,B))    #行列積\n",
    "print(A*B)    #要素積"
   ]
  },
  {
   "cell_type": "code",
   "execution_count": 31,
   "metadata": {},
   "outputs": [
    {
     "name": "stdout",
     "output_type": "stream",
     "text": [
      "[[  0.   1.   2.   3.]\n",
      " [  4.   5.   6.   7.]\n",
      " [  8.   9.  10.  11.]]\n",
      "[ 1.  2. -2.  1.]\n"
     ]
    }
   ],
   "source": [
    "#行数の変更\n",
    "print(linspace(0.0,11.0,12).reshape(3,4))    #3*4\n",
    "print(A.reshape(4))    #2*2→四次元ベクトル"
   ]
  },
  {
   "cell_type": "code",
   "execution_count": 33,
   "metadata": {},
   "outputs": [
    {
     "name": "stdout",
     "output_type": "stream",
     "text": [
      "[[ 1.  0.  0.]\n",
      " [ 0.  1.  0.]\n",
      " [ 0.  0.  1.]]\n",
      "[[ 0.  0.]\n",
      " [ 0.  0.]]\n"
     ]
    }
   ],
   "source": [
    "print(eye(3))    #単位行列\n",
    "print(zeros((2,2)))    #零行列"
   ]
  },
  {
   "cell_type": "code",
   "execution_count": 35,
   "metadata": {},
   "outputs": [
    {
     "name": "stdout",
     "output_type": "stream",
     "text": [
      "[[ 1.  2.  2. -1.]\n",
      " [-2.  1.  2.  1.]]\n",
      "[[ 1.  2.]\n",
      " [-2.  1.]\n",
      " [ 2. -1.]\n",
      " [ 2.  1.]]\n"
     ]
    }
   ],
   "source": [
    "#連結\n",
    "C = hstack((A,B))\n",
    "D = vstack((A,B))\n",
    "print(C)\n",
    "print(D)"
   ]
  },
  {
   "cell_type": "code",
   "execution_count": 36,
   "metadata": {},
   "outputs": [
    {
     "name": "stdout",
     "output_type": "stream",
     "text": [
      "[[ 0.2 -0.4]\n",
      " [ 0.4  0.2]]\n",
      "5.0\n"
     ]
    }
   ],
   "source": [
    "print(linalg.inv(A))    #逆行列\n",
    "print(linalg.det(A))    #行列式"
   ]
  },
  {
   "cell_type": "code",
   "execution_count": 39,
   "metadata": {},
   "outputs": [
    {
     "name": "stdout",
     "output_type": "stream",
     "text": [
      "[-0.37228132  5.37228132]\n",
      "[[-0.82456484 -0.41597356]\n",
      " [ 0.56576746 -0.90937671]]\n"
     ]
    }
   ],
   "source": [
    "A = array([[1.0,2.0], [3.0,4.0]])\n",
    "lmd,V = linalg.eig(A)\n",
    "print(lmd)    #固有値\n",
    "print(V)    #各列が固有ベクトル"
   ]
  },
  {
   "cell_type": "code",
   "execution_count": 40,
   "metadata": {},
   "outputs": [
    {
     "data": {
      "text/plain": [
       "array([ 3.,  5.])"
      ]
     },
     "execution_count": 40,
     "metadata": {},
     "output_type": "execute_result"
    }
   ],
   "source": [
    "#行列とベクトルの積\n",
    "b = array([-1.0,2.0])\n",
    "dot(A,b)"
   ]
  },
  {
   "cell_type": "code",
   "execution_count": 43,
   "metadata": {},
   "outputs": [
    {
     "name": "stdout",
     "output_type": "stream",
     "text": [
      "[ 1.  2. -1.]\n"
     ]
    }
   ],
   "source": [
    "#連立一次方程式 Ax=b を解く\n",
    "A = array([[-1.0,1.0,1.0], [2.0,-1.0,1.0], [1.0,0.0,-1.0]])\n",
    "b = array([0.0,-1.0,2.0])\n",
    "x = linalg.solve(A,b)\n",
    "print(x)\n",
    "#dot(linalg.inv(A), b)    x=A^(-1) b"
   ]
  },
  {
   "cell_type": "code",
   "execution_count": 44,
   "metadata": {},
   "outputs": [
    {
     "name": "stdout",
     "output_type": "stream",
     "text": [
      "[ 0.92158622  0.0176264   0.61681393]\n",
      "[-1.30612873 -0.36200969  0.57298918]\n",
      "[7 9 1 3 1]\n"
     ]
    }
   ],
   "source": [
    "#乱数生成\n",
    "print(random.random(3))    #0-1の一様乱数\n",
    "print(random.randn(3))    #平均0,標準偏差1の標準正規分布に従う乱数\n",
    "print(random.choice(10,5))    #0-(n-1)までの整数からランダムに選択"
   ]
  },
  {
   "cell_type": "markdown",
   "metadata": {
    "collapsed": true
   },
   "source": [
    "## 常微分方程式の数値解法"
   ]
  },
  {
   "cell_type": "code",
   "execution_count": 3,
   "metadata": {},
   "outputs": [
    {
     "data": {
      "image/png": "[encoded data removed]",
      "text/plain": [
       "<matplotlib.figure.Figure at 0x1ddbe6e3780>"
      ]
     },
     "metadata": {},
     "output_type": "display_data"
    }
   ],
   "source": [
    "#減衰振動\n",
    "from numpy import*\n",
    "from pylab import*\n",
    "%matplotlib inline\n",
    "\n",
    "gam=0.3\n",
    "ome2=1.0\n",
    "dlt=0.1\n",
    "\n",
    "T = arange(0.0,10.0,dlt)\n",
    "N = T.shape[0]\n",
    "X = zeros((N,2))\n",
    "\n",
    "X[0,:] =[1.0,1.0]\n",
    "A = array([[0.0,1.0],[-ome2,-2.0*gam]])\n",
    "\n",
    "for n in range(N-1):\n",
    "    k1=dot(A,X[n,:])\n",
    "    k2=dot(A,X[n,:]+0.5*dlt*k1)\n",
    "    k3=dot(A,X[n,:]+0.5*dlt*k2)\n",
    "    k4=dot(A,X[n,:]+dlt*k3)\n",
    "    X[n+1,:] = X[n,:]+dlt/6*(k1+2*k2+2*k3+k4)\n",
    "    \n",
    "plot(T,X[:,0])\n",
    "plot(T,X[:,1])\n",
    "legend([\"x\",\"x dot\"])\n",
    "title(\"Solution by Runge-Kutta\")\n",
    "show()"
   ]
  },
  {
   "cell_type": "code",
   "execution_count": 11,
   "metadata": {
    "scrolled": true
   },
   "outputs": [
    {
     "data": {
      "image/png": "[encoded data removed]",
      "text/plain": [
       "<matplotlib.figure.Figure at 0x1ddbf7ef048>"
      ]
     },
     "metadata": {},
     "output_type": "display_data"
    }
   ],
   "source": [
    "#Lorenz方程式\n",
    "from numpy import*\n",
    "from pylab import*\n",
    "from mpl_toolkits.mplot3d import Axes3D\n",
    "%matplotlib inline\n",
    "\n",
    "s=100.0\n",
    "b=8.0/3.0\n",
    "r=28.0\n",
    "dt=0.01\n",
    "\n",
    "T=arange(0.0,100.0,dt)\n",
    "N=T.shape[0]\n",
    "X=zeros((N,3))\n",
    "X[0,:]=array([15.0,15.0,20.0])\n",
    "\n",
    "def deriv_lorenz(x):\n",
    "    dx=s*(x[1]-x[0])\n",
    "    dy=x[0]*(r-x[2])-x[1]\n",
    "    dz=x[0]*x[1]-b*x[2]\n",
    "    dxdydz=array([dx,dy,dz])\n",
    "    return dxdydz\n",
    "    \n",
    "for i in range(N-1):\n",
    "    k1=deriv_lorenz(X[i,:])\n",
    "    k2=deriv_lorenz(X[i,:]+0.5*dt*k1)\n",
    "    k3=deriv_lorenz(X[i,:]+0.5*dt*k2)\n",
    "    k4=deriv_lorenz(X[i,:]+dt*k3)\n",
    "    X[i+1,:] = X[i,:]+dt/6*(k1+2*k2+2*k3+k4)\n",
    "    \n",
    "fig = plt.figure()\n",
    "ax = fig.gca(projection=\"3d\")\n",
    "ax.plot(X[:,0],X[:,1],X[:,2])\n",
    "plt.show()"
   ]
  },
  {
   "cell_type": "markdown",
   "metadata": {
    "collapsed": true
   },
   "source": [
    "## 最小二乗法"
   ]
  },
  {
   "cell_type": "code",
   "execution_count": null,
   "metadata": {
    "collapsed": true
   },
   "outputs": [],
   "source": []
  }
 ],
 "metadata": {
  "kernelspec": {
   "display_name": "Python 3",
   "language": "python",
   "name": "python3"
  },
  "language_info": {
   "codemirror_mode": {
    "name": "ipython",
    "version": 3
   },
   "file_extension": ".py",
   "mimetype": "text/x-python",
   "name": "python",
   "nbconvert_exporter": "python",
   "pygments_lexer": "ipython3",
   "version": "3.6.3"
  }
 },
 "nbformat": 4,
 "nbformat_minor": 2
}
